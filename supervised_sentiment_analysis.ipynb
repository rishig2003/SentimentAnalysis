{
  "nbformat": 4,
  "nbformat_minor": 0,
  "metadata": {
    "colab": {
      "provenance": []
    },
    "kernelspec": {
      "name": "python3",
      "display_name": "Python 3"
    },
    "language_info": {
      "name": "python"
    }
  },
  "cells": [
    {
      "cell_type": "code",
      "execution_count": null,
      "metadata": {
        "id": "2PztS9-GUDsh"
      },
      "outputs": [],
      "source": [
        "import pandas as pd\n",
        "from sklearn.model_selection import train_test_split\n",
        "from sklearn.feature_extraction.text import CountVectorizer\n",
        "from sklearn.naive_bayes import MultinomialNB\n",
        "from sklearn.metrics import accuracy_score, classification_report, confusion_matrix\n",
        "import matplotlib.pyplot as plt\n",
        "import random"
      ]
    },
    {
      "cell_type": "code",
      "source": [
        "from google.colab import drive\n",
        "drive.mount('/content/drive')"
      ],
      "metadata": {
        "colab": {
          "base_uri": "https://localhost:8080/"
        },
        "id": "W5C8Cfi8U7RK",
        "outputId": "ca4ab077-fd6c-4aa4-9590-b047dc667ebc"
      },
      "execution_count": null,
      "outputs": [
        {
          "output_type": "stream",
          "name": "stdout",
          "text": [
            "Drive already mounted at /content/drive; to attempt to forcibly remount, call drive.mount(\"/content/drive\", force_remount=True).\n"
          ]
        }
      ]
    },
    {
      "cell_type": "code",
      "source": [
        "# Load the CSV file into a pandas DataFrame\n",
        "data = pd.read_csv('/content/drive/MyDrive/Colab Notebooks/Twitter_Data_updated.csv')\n",
        "\n",
        "# Data Cleaning\n",
        "data = data.dropna(subset=['clean_text','category'])\n",
        "data=data.replace(0,1)\n",
        "##data.fillna('', inplace=True)\n",
        "print(data.head(30))\n"
      ],
      "metadata": {
        "colab": {
          "base_uri": "https://localhost:8080/"
        },
        "id": "GZx5Y3qbU-d0",
        "outputId": "6cb0d415-d36f-4071-e5df-47dadccfbf7a"
      },
      "execution_count": null,
      "outputs": [
        {
          "output_type": "stream",
          "name": "stdout",
          "text": [
            "                                           clean_text  category\n",
            "0   when modi promised “minimum government maximum...      -1.0\n",
            "1   talk all the nonsense and continue all the dra...       1.0\n",
            "2   what did just say vote for modi  welcome bjp t...       1.0\n",
            "3   asking his supporters prefix chowkidar their n...       1.0\n",
            "4   answer who among these the most powerful world...       1.0\n",
            "5            kiya tho refresh maarkefir comment karo        1.0\n",
            "6   surat women perform yagna seeks divine grace f...       1.0\n",
            "7   this comes from cabinet which has scholars lik...       1.0\n",
            "8   with upcoming election india saga going import...       1.0\n",
            "9                          gandhi was gay does modi         1.0\n",
            "10  things like demonetisation gst goods and servi...       1.0\n",
            "11  hope tuthukudi people would prefer honest well...       1.0\n",
            "12                  calm waters wheres the modi wave        1.0\n",
            "13  one vote can make all the difference anil kapo...       1.0\n",
            "14  one vote can make all the difference anil kapo...       1.0\n",
            "15  vote such party and leadershipwho can take fas...      -1.0\n",
            "16                 vote modi who has not created jobs       1.0\n",
            "17  through our vote ensure govt need and deserve ...       1.0\n",
            "18  dont play with the words was talking about the...       1.0\n",
            "19  didn’ write chowkidar does mean ’ anti modi tr...      -1.0\n",
            "20  was the one who recently said that people who ...       1.0\n",
            "21  with firm belief the leadership shri narendra ...      -1.0\n",
            "22  crush jaws those who shoutmodimodi says jds ml...       1.0\n",
            "23  sultanpur uttar pradesh loksabha candidate sel...      -1.0\n",
            "24  thiugh nehru not alive but still alive heart m...      -1.0\n",
            "25  \\ndevelopment has become mass movement under m...       1.0\n",
            "26  has already taken notice and ordered probe now...       1.0\n",
            "27  was waiting for this modi will also talk about...       1.0\n",
            "28  according yogi imran masood kin azhar masood a...       1.0\n",
            "29  agree but only during the tenure modiganga rej...       1.0\n"
          ]
        }
      ]
    },
    {
      "cell_type": "code",
      "source": [
        "# Split the data into training and testing sets (e.g., 80% for training, 20% for testing)\n",
        "X = data['clean_text']\n",
        "y = data['category']  # Replace 'Target_column' with the actual target column name\n",
        "t=random.randint(1,100)\n",
        "X_train, X_test, y_train, y_test = train_test_split(X, y, test_size=0.2, random_state=42)\n",
        "print(X_train)\n",
        "print('\\n testing \\n')\n",
        "print(X_test)"
      ],
      "metadata": {
        "colab": {
          "base_uri": "https://localhost:8080/"
        },
        "id": "-FDwJRZaVvMv",
        "outputId": "42bebe81-48c9-43be-89f3-89839b676b99"
      },
      "execution_count": null,
      "outputs": [
        {
          "output_type": "stream",
          "name": "stdout",
          "text": [
            "63425     some media guys cant even think straight forwa...\n",
            "78455                                             only namo\n",
            "70129     does this add the space debris problem the awa...\n",
            "157073    today’ interaction modi phenomenal looking fre...\n",
            "120885    more modi bjp wants change nitin gadkari will ...\n",
            "                                ...                        \n",
            "119880    will buy mallyas kingfisher nirav modi choksi ...\n",
            "103695                                    all the way modi \n",
            "131934    indians are getting cosy the idea voting rahul...\n",
            "146869    wow reading comments here like watching circus...\n",
            "121959    you are wrong love modi wont mind hearing his ...\n",
            "Name: clean_text, Length: 130375, dtype: object\n",
            "\n",
            " testing \n",
            "\n",
            "42229     news flash modi address the nation cancels tri...\n",
            "22035     according congress ecosystem bjp divided house...\n",
            "79982     friends did not have the guts let drdo test mo...\n",
            "118493    did modi violate the model code conduct speaki...\n",
            "12815     raoul gandhy asked modi about nirav for years ...\n",
            "                                ...                        \n",
            "47105     this exactly like liberals criticizing modis f...\n",
            "33632                         fake post just like fake modi\n",
            "93676                                  favourite only modi \n",
            "37757     swamy really wanted against modi would have ri...\n",
            "132997    like modi cheated with lakh acche din vikas th...\n",
            "Name: clean_text, Length: 32594, dtype: object\n"
          ]
        }
      ]
    },
    {
      "cell_type": "code",
      "source": [
        "vectorizer = CountVectorizer()\n",
        "X_train_vectorized = vectorizer.fit_transform(X_train)\n",
        "X_test_vectorized = vectorizer.transform(X_test)"
      ],
      "metadata": {
        "id": "_sOavPHFXDoX"
      },
      "execution_count": null,
      "outputs": []
    },
    {
      "cell_type": "code",
      "source": [
        "naive_bayes_classifier = MultinomialNB()\n",
        "naive_bayes_classifier.fit(X_train_vectorized, y_train)\n"
      ],
      "metadata": {
        "colab": {
          "base_uri": "https://localhost:8080/",
          "height": 74
        },
        "id": "27LjeGPqYd8I",
        "outputId": "4da236f1-9385-44d6-c31b-4650cb0ee0af"
      },
      "execution_count": null,
      "outputs": [
        {
          "output_type": "execute_result",
          "data": {
            "text/plain": [
              "MultinomialNB()"
            ],
            "text/html": [
              "<style>#sk-container-id-2 {color: black;background-color: white;}#sk-container-id-2 pre{padding: 0;}#sk-container-id-2 div.sk-toggleable {background-color: white;}#sk-container-id-2 label.sk-toggleable__label {cursor: pointer;display: block;width: 100%;margin-bottom: 0;padding: 0.3em;box-sizing: border-box;text-align: center;}#sk-container-id-2 label.sk-toggleable__label-arrow:before {content: \"▸\";float: left;margin-right: 0.25em;color: #696969;}#sk-container-id-2 label.sk-toggleable__label-arrow:hover:before {color: black;}#sk-container-id-2 div.sk-estimator:hover label.sk-toggleable__label-arrow:before {color: black;}#sk-container-id-2 div.sk-toggleable__content {max-height: 0;max-width: 0;overflow: hidden;text-align: left;background-color: #f0f8ff;}#sk-container-id-2 div.sk-toggleable__content pre {margin: 0.2em;color: black;border-radius: 0.25em;background-color: #f0f8ff;}#sk-container-id-2 input.sk-toggleable__control:checked~div.sk-toggleable__content {max-height: 200px;max-width: 100%;overflow: auto;}#sk-container-id-2 input.sk-toggleable__control:checked~label.sk-toggleable__label-arrow:before {content: \"▾\";}#sk-container-id-2 div.sk-estimator input.sk-toggleable__control:checked~label.sk-toggleable__label {background-color: #d4ebff;}#sk-container-id-2 div.sk-label input.sk-toggleable__control:checked~label.sk-toggleable__label {background-color: #d4ebff;}#sk-container-id-2 input.sk-hidden--visually {border: 0;clip: rect(1px 1px 1px 1px);clip: rect(1px, 1px, 1px, 1px);height: 1px;margin: -1px;overflow: hidden;padding: 0;position: absolute;width: 1px;}#sk-container-id-2 div.sk-estimator {font-family: monospace;background-color: #f0f8ff;border: 1px dotted black;border-radius: 0.25em;box-sizing: border-box;margin-bottom: 0.5em;}#sk-container-id-2 div.sk-estimator:hover {background-color: #d4ebff;}#sk-container-id-2 div.sk-parallel-item::after {content: \"\";width: 100%;border-bottom: 1px solid gray;flex-grow: 1;}#sk-container-id-2 div.sk-label:hover label.sk-toggleable__label {background-color: #d4ebff;}#sk-container-id-2 div.sk-serial::before {content: \"\";position: absolute;border-left: 1px solid gray;box-sizing: border-box;top: 0;bottom: 0;left: 50%;z-index: 0;}#sk-container-id-2 div.sk-serial {display: flex;flex-direction: column;align-items: center;background-color: white;padding-right: 0.2em;padding-left: 0.2em;position: relative;}#sk-container-id-2 div.sk-item {position: relative;z-index: 1;}#sk-container-id-2 div.sk-parallel {display: flex;align-items: stretch;justify-content: center;background-color: white;position: relative;}#sk-container-id-2 div.sk-item::before, #sk-container-id-2 div.sk-parallel-item::before {content: \"\";position: absolute;border-left: 1px solid gray;box-sizing: border-box;top: 0;bottom: 0;left: 50%;z-index: -1;}#sk-container-id-2 div.sk-parallel-item {display: flex;flex-direction: column;z-index: 1;position: relative;background-color: white;}#sk-container-id-2 div.sk-parallel-item:first-child::after {align-self: flex-end;width: 50%;}#sk-container-id-2 div.sk-parallel-item:last-child::after {align-self: flex-start;width: 50%;}#sk-container-id-2 div.sk-parallel-item:only-child::after {width: 0;}#sk-container-id-2 div.sk-dashed-wrapped {border: 1px dashed gray;margin: 0 0.4em 0.5em 0.4em;box-sizing: border-box;padding-bottom: 0.4em;background-color: white;}#sk-container-id-2 div.sk-label label {font-family: monospace;font-weight: bold;display: inline-block;line-height: 1.2em;}#sk-container-id-2 div.sk-label-container {text-align: center;}#sk-container-id-2 div.sk-container {/* jupyter's `normalize.less` sets `[hidden] { display: none; }` but bootstrap.min.css set `[hidden] { display: none !important; }` so we also need the `!important` here to be able to override the default hidden behavior on the sphinx rendered scikit-learn.org. See: https://github.com/scikit-learn/scikit-learn/issues/21755 */display: inline-block !important;position: relative;}#sk-container-id-2 div.sk-text-repr-fallback {display: none;}</style><div id=\"sk-container-id-2\" class=\"sk-top-container\"><div class=\"sk-text-repr-fallback\"><pre>MultinomialNB()</pre><b>In a Jupyter environment, please rerun this cell to show the HTML representation or trust the notebook. <br />On GitHub, the HTML representation is unable to render, please try loading this page with nbviewer.org.</b></div><div class=\"sk-container\" hidden><div class=\"sk-item\"><div class=\"sk-estimator sk-toggleable\"><input class=\"sk-toggleable__control sk-hidden--visually\" id=\"sk-estimator-id-2\" type=\"checkbox\" checked><label for=\"sk-estimator-id-2\" class=\"sk-toggleable__label sk-toggleable__label-arrow\">MultinomialNB</label><div class=\"sk-toggleable__content\"><pre>MultinomialNB()</pre></div></div></div></div></div>"
            ]
          },
          "metadata": {},
          "execution_count": 42
        }
      ]
    },
    {
      "cell_type": "code",
      "source": [
        "y_pred = naive_bayes_classifier.predict(X_test_vectorized)"
      ],
      "metadata": {
        "id": "P6qHUUw-plYV"
      },
      "execution_count": null,
      "outputs": []
    },
    {
      "cell_type": "code",
      "source": [
        "accuracy = accuracy_score(y_test, y_pred)\n",
        "print(f'Accuracy: {accuracy}')\n",
        "print(classification_report(y_test, y_pred))"
      ],
      "metadata": {
        "colab": {
          "base_uri": "https://localhost:8080/"
        },
        "id": "9TwDIuXYppIh",
        "outputId": "63346ff3-0827-40be-9119-731e188c3554"
      },
      "execution_count": null,
      "outputs": [
        {
          "output_type": "stream",
          "name": "stdout",
          "text": [
            "Accuracy: 0.8617230165061054\n",
            "              precision    recall  f1-score   support\n",
            "\n",
            "        -1.0       0.81      0.49      0.61      7152\n",
            "         1.0       0.87      0.97      0.92     25442\n",
            "\n",
            "    accuracy                           0.86     32594\n",
            "   macro avg       0.84      0.73      0.76     32594\n",
            "weighted avg       0.86      0.86      0.85     32594\n",
            "\n"
          ]
        }
      ]
    },
    {
      "cell_type": "code",
      "source": [
        "confusion_mat = confusion_matrix(y_test, y_pred)\n",
        "print(confusion_mat)"
      ],
      "metadata": {
        "colab": {
          "base_uri": "https://localhost:8080/"
        },
        "id": "nUPL5olUp7Vy",
        "outputId": "db1a186b-cbe6-4e50-dbff-8ec612c1d76f"
      },
      "execution_count": null,
      "outputs": [
        {
          "output_type": "stream",
          "name": "stdout",
          "text": [
            "[[ 3485  3667]\n",
            " [  840 24602]]\n"
          ]
        }
      ]
    },
    {
      "cell_type": "code",
      "source": [
        "import numpy\n",
        "confusion_mat_values=confusion_mat.flatten()\n",
        "print(confusion_mat_values)"
      ],
      "metadata": {
        "colab": {
          "base_uri": "https://localhost:8080/"
        },
        "id": "L1CQbdOWuDsb",
        "outputId": "2019b339-d610-4755-e8fd-8915e3b3604a"
      },
      "execution_count": null,
      "outputs": [
        {
          "output_type": "stream",
          "name": "stdout",
          "text": [
            "[ 3485  3667   840 24602]\n"
          ]
        }
      ]
    },
    {
      "cell_type": "code",
      "source": [
        "labels = ['True Positive', 'False Positive', 'False Negative', 'True Negative']\n",
        "\n",
        "# Define colors for the categories (3 different colors)\n",
        "colors = ['#ffff99', '#66b3ff', '#99ff99', '#c2c2f0']\n",
        "#confusion_mat_values=[3485,3667,840,24602]\n",
        "# Create a pie chart\n",
        "plt.figure(figsize=(6, 6))\n",
        "plt.pie(confusion_mat_values, labels=labels, autopct='%1.1f%%', colors=colors, startangle=140)\n",
        "plt.axis('equal')  # Equal aspect ratio ensures that pie is drawn as a circle.\n",
        "\n",
        "# Add a title\n",
        "plt.title('Confusion Matrix')\n",
        "\n",
        "# Display the pie chart\n",
        "plt.show()"
      ],
      "metadata": {
        "colab": {
          "base_uri": "https://localhost:8080/",
          "height": 521
        },
        "id": "gAOmX5w0qNlB",
        "outputId": "8aa77beb-fa42-405d-e3f4-8cb385245b27"
      },
      "execution_count": null,
      "outputs": [
        {
          "output_type": "display_data",
          "data": {
            "text/plain": [
              "<Figure size 600x600 with 1 Axes>"
            ],
            "image/png": "[encoded data removed]"
          },
          "metadata": {}
        }
      ]
    }
  ]
}